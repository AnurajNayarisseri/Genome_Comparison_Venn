{
 "cells": [
  {
   "cell_type": "code",
   "execution_count": null,
   "metadata": {},
   "outputs": [],
   "source": [
    "import pandas as pd\n",
    "from itertools import combinations \n",
    "import matplotlib\n",
    "import venn\n",
    "from venn import pseudovenn\n",
    "df= pd.read_csv(r\"C:\\\\Users\\\\EMBS\\\\Desktop\\\\new_venn\\\\final gene list.csv\")\n",
    "df.columns = ['A', 'B', 'C', 'D','E','F']\n",
    "df2 = pd.DataFrame()\n",
    "x=1\n",
    "for x in range(2,7):\n",
    "    comb = combinations(('A', 'B', 'C','D','E','F'),x)\n",
    "\n",
    "    for i in list(comb):\n",
    "        A=\"\"\n",
    "        B=A.join(i[0:-1])\n",
    "        C=A.join(i)\n",
    "        a = set(df[B]).intersection(set(df[i[-1]]))\n",
    "\n",
    "        c=len(a)\n",
    "        b=list(a)\n",
    "        df[C] = pd.Series(b)\n",
    "        df2[C] = pd.Series(c)\n",
    "frames = [df2, df]\n",
    "result = pd.concat(frames)\n",
    "result.to_csv(r'C:\\\\Users\\\\EMBS\\\\Desktop\\\\new_venn\\\\result.csv')\n",
    "data_dict ={'A':a,'B':b,'C':c,'D':d,'E':e,'F':f}\n",
    "labels = venn.get_labels([a,b,c,d,e,f])\n",
    "fig, ax = venn.venn6(labels, names=['B. tequilensis ANSKLAB04',' B. subtilis', 'B. vallismortis', 'B. halotolerans', 'B. mojavensis', 'B. tequilensis KCTC' ])\n",
    "fig.set_size_inches(40.5, 14.5)\n",
    "fig.show()"
   ]
  }
 ],
 "metadata": {
  "kernelspec": {
   "display_name": "Python 3",
   "language": "python",
   "name": "python3"
  },
  "language_info": {
   "codemirror_mode": {
    "name": "ipython",
    "version": 3
   },
   "file_extension": ".py",
   "mimetype": "text/x-python",
   "name": "python",
   "nbconvert_exporter": "python",
   "pygments_lexer": "ipython3",
   "version": "3.7.6"
  }
 },
 "nbformat": 4,
 "nbformat_minor": 4
}
