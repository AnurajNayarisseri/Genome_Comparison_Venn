import pandas as pd
from itertools import combinations 
import matplotlib
import venn
from venn import pseudovenn
df= pd.read_csv(r"C:\\Users\\EMBS\\Desktop\\new_venn\\final gene list.csv")
df.columns = ['A', 'B', 'C', 'D','E','F']
df2 = pd.DataFrame()
x=1
for x in range(2,7):
    comb = combinations(('A', 'B', 'C','D','E','F'),x)
    
    for i in list(comb):
        A=""
        B=A.join(i[0:-1])
        C=A.join(i)
        a = set(df[B]).intersection(set(df[i[-1]]))
        
        c=len(a)
        b=list(a)
        df[C] = pd.Series(b)
        df2[C] = pd.Series(c)
frames = [df2, df]
result = pd.concat(frames)
result.to_csv(r'C:\\Users\\EMBS\\Desktop\\new_venn\\result.csv')
data_dict ={'A':a,'B':b,'C':c,'D':d,'E':e,'F':f}
labels = venn.get_labels([a,b,c,d,e,f])
fig, ax = venn.venn6(labels, names=['B. tequilensis ANSKLAB04',' B. subtilis', 'B. vallismortis', 'B. halotolerans', 'B. mojavensis', 'B. tequilensis KCTC' ])
fig.set_size_inches(40.5, 14.5)
fig.show()
